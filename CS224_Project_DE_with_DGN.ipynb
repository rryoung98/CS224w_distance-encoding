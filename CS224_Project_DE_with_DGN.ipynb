{
  "nbformat": 4,
  "nbformat_minor": 0,
  "metadata": {
    "colab": {
      "name": "CS224 Project DE with DGN",
      "provenance": [],
      "collapsed_sections": [],
      "authorship_tag": "ABX9TyOQrVrMc9yrWipzjZSYXs24",
      "include_colab_link": true
    },
    "kernelspec": {
      "name": "python3",
      "display_name": "Python 3"
    }
  },
  "cells": [
    {
      "cell_type": "markdown",
      "metadata": {
        "id": "view-in-github",
        "colab_type": "text"
      },
      "source": [
        "<a href=\"https://colab.research.google.com/github/rryoung98/CS224w_distance-encoding/blob/master/CS224_Project_DE_with_DGN.ipynb\" target=\"_parent\"><img src=\"https://colab.research.google.com/assets/colab-badge.svg\" alt=\"Open In Colab\"/></a>"
      ]
    },
    {
      "cell_type": "code",
      "metadata": {
        "id": "hB52cc_Y1LUH"
      },
      "source": [
        "!pip install -q torch-scatter -f https://pytorch-geometric.com/whl/torch-1.7.0+cu101.html\n",
        "!pip install -q torch-sparse -f https://pytorch-geometric.com/whl/torch-1.7.0+cu101.html\n",
        "!pip install -q torch-geometric\n",
        "!pip install ogb\n",
        "!pip install torch\n",
        "!pip install networkx"
      ],
      "execution_count": null,
      "outputs": []
    },
    {
      "cell_type": "code",
      "metadata": {
        "id": "6lAjsTMSF8Gg"
      },
      "source": [
        "from ogb.linkproppred import LinkPropPredDataset\n",
        "from torch_geometric.data import DataLoader\n",
        "import networkx as nx\n",
        "# Download and process data at './dataset/ogbg_molhiv/'\n",
        "dataset = LinkPropPredDataset(name = 'ogbl-collab')\n",
        "split = dataset.get_edge_split()\n",
        "print(split[\"edge_index\"])\n",
        "train_loader = DataLoader(split['train'], batch_size=32, shuffle=True)\n",
        "valid_loader = DataLoader(split['valid'], batch_size=32, shuffle=False)\n",
        "test_loader = DataLoader(split['test'], batch_size=32, shuffle=False)"
      ],
      "execution_count": null,
      "outputs": []
    }
  ]
}