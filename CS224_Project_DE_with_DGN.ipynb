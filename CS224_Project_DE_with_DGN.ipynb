{
  "nbformat": 4,
  "nbformat_minor": 0,
  "metadata": {
    "colab": {
      "name": "CS224 Project DE with DGN",
      "provenance": [],
      "collapsed_sections": [],
      "authorship_tag": "ABX9TyMAaK7NMu/TQn4qjpHqCYh5",
      "include_colab_link": true
    },
    "kernelspec": {
      "name": "python3",
      "display_name": "Python 3"
    }
  },
  "cells": [
    {
      "cell_type": "markdown",
      "metadata": {
        "id": "view-in-github",
        "colab_type": "text"
      },
      "source": [
        "<a href=\"https://colab.research.google.com/github/rryoung98/CS224w_distance-encoding/blob/master/CS224_Project_DE_with_DGN.ipynb\" target=\"_parent\"><img src=\"https://colab.research.google.com/assets/colab-badge.svg\" alt=\"Open In Colab\"/></a>"
      ]
    },
    {
      "cell_type": "code",
      "metadata": {
        "id": "hB52cc_Y1LUH",
        "colab": {
          "base_uri": "https://localhost:8080/"
        },
        "outputId": "1b50c3e5-2d69-4155-a788-58606d2838f7"
      },
      "source": [
        "!pip install -q torch-scatter -f https://pytorch-geometric.com/whl/torch-1.7.0+cu101.html\n",
        "!pip install -q torch-sparse -f https://pytorch-geometric.com/whl/torch-1.7.0+cu101.html\n",
        "!pip install -q torch-geometric\n",
        "!pip install ogb\n",
        "!pip install torch\n",
        "!pip install networkx"
      ],
      "execution_count": 3,
      "outputs": [
        {
          "output_type": "stream",
          "text": [
            "\u001b[K     |████████████████████████████████| 11.9MB 12.3MB/s \n",
            "\u001b[K     |████████████████████████████████| 24.3MB 1.5MB/s \n",
            "\u001b[K     |████████████████████████████████| 194kB 11.5MB/s \n",
            "\u001b[K     |████████████████████████████████| 235kB 21.0MB/s \n",
            "\u001b[K     |████████████████████████████████| 2.2MB 31.4MB/s \n",
            "\u001b[K     |████████████████████████████████| 51kB 3.2MB/s \n",
            "\u001b[?25h  Building wheel for torch-geometric (setup.py) ... \u001b[?25l\u001b[?25hdone\n",
            "Collecting ogb\n",
            "\u001b[?25l  Downloading https://files.pythonhosted.org/packages/56/81/b4c8795d256e62167aab7b50c4eba86baa499ba9500bbfcfbb3ac93feb9f/ogb-1.2.6-py3-none-any.whl (58kB)\n",
            "\u001b[K     |████████████████████████████████| 61kB 3.7MB/s \n",
            "\u001b[?25hRequirement already satisfied: numpy>=1.16.0 in /usr/local/lib/python3.7/dist-packages (from ogb) (1.19.5)\n",
            "Requirement already satisfied: six>=1.12.0 in /usr/local/lib/python3.7/dist-packages (from ogb) (1.15.0)\n",
            "Requirement already satisfied: pandas>=0.24.0 in /usr/local/lib/python3.7/dist-packages (from ogb) (1.1.5)\n",
            "Requirement already satisfied: torch>=1.2.0 in /usr/local/lib/python3.7/dist-packages (from ogb) (1.7.1+cu101)\n",
            "Requirement already satisfied: urllib3>=1.24.0 in /usr/local/lib/python3.7/dist-packages (from ogb) (1.24.3)\n",
            "Collecting outdated>=0.2.0\n",
            "  Downloading https://files.pythonhosted.org/packages/86/70/2f166266438a30e94140f00c99c0eac1c45807981052a1d4c123660e1323/outdated-0.2.0.tar.gz\n",
            "Requirement already satisfied: tqdm>=4.29.0 in /usr/local/lib/python3.7/dist-packages (from ogb) (4.41.1)\n",
            "Requirement already satisfied: scikit-learn>=0.20.0 in /usr/local/lib/python3.7/dist-packages (from ogb) (0.22.2.post1)\n",
            "Requirement already satisfied: python-dateutil>=2.7.3 in /usr/local/lib/python3.7/dist-packages (from pandas>=0.24.0->ogb) (2.8.1)\n",
            "Requirement already satisfied: pytz>=2017.2 in /usr/local/lib/python3.7/dist-packages (from pandas>=0.24.0->ogb) (2018.9)\n",
            "Requirement already satisfied: typing-extensions in /usr/local/lib/python3.7/dist-packages (from torch>=1.2.0->ogb) (3.7.4.3)\n",
            "Collecting littleutils\n",
            "  Downloading https://files.pythonhosted.org/packages/4e/b1/bb4e06f010947d67349f863b6a2ad71577f85590180a935f60543f622652/littleutils-0.2.2.tar.gz\n",
            "Requirement already satisfied: requests in /usr/local/lib/python3.7/dist-packages (from outdated>=0.2.0->ogb) (2.23.0)\n",
            "Requirement already satisfied: scipy>=0.17.0 in /usr/local/lib/python3.7/dist-packages (from scikit-learn>=0.20.0->ogb) (1.4.1)\n",
            "Requirement already satisfied: joblib>=0.11 in /usr/local/lib/python3.7/dist-packages (from scikit-learn>=0.20.0->ogb) (1.0.1)\n",
            "Requirement already satisfied: certifi>=2017.4.17 in /usr/local/lib/python3.7/dist-packages (from requests->outdated>=0.2.0->ogb) (2020.12.5)\n",
            "Requirement already satisfied: chardet<4,>=3.0.2 in /usr/local/lib/python3.7/dist-packages (from requests->outdated>=0.2.0->ogb) (3.0.4)\n",
            "Requirement already satisfied: idna<3,>=2.5 in /usr/local/lib/python3.7/dist-packages (from requests->outdated>=0.2.0->ogb) (2.10)\n",
            "Building wheels for collected packages: outdated, littleutils\n",
            "  Building wheel for outdated (setup.py) ... \u001b[?25l\u001b[?25hdone\n",
            "  Created wheel for outdated: filename=outdated-0.2.0-cp37-none-any.whl size=4962 sha256=8cd33a9e3a2867072320d189430d13327d28a16089f5c0fcb63aad34f162e269\n",
            "  Stored in directory: /root/.cache/pip/wheels/fd/7c/ef/814f514d31197310872b5abf353feb8fef9d67ee658e1e7e39\n",
            "  Building wheel for littleutils (setup.py) ... \u001b[?25l\u001b[?25hdone\n",
            "  Created wheel for littleutils: filename=littleutils-0.2.2-cp37-none-any.whl size=7051 sha256=704d64bf3ce6e090847d67b46354d0684994a6e991ef44031ec61ef8912eb349\n",
            "  Stored in directory: /root/.cache/pip/wheels/53/16/9f/ac67d15c40243754fd73f620e1b9b6dedc20492ecc19a2bae1\n",
            "Successfully built outdated littleutils\n",
            "Installing collected packages: littleutils, outdated, ogb\n",
            "Successfully installed littleutils-0.2.2 ogb-1.2.6 outdated-0.2.0\n",
            "Requirement already satisfied: torch in /usr/local/lib/python3.7/dist-packages (1.7.1+cu101)\n",
            "Requirement already satisfied: numpy in /usr/local/lib/python3.7/dist-packages (from torch) (1.19.5)\n",
            "Requirement already satisfied: typing-extensions in /usr/local/lib/python3.7/dist-packages (from torch) (3.7.4.3)\n",
            "Requirement already satisfied: networkx in /usr/local/lib/python3.7/dist-packages (2.5)\n",
            "Requirement already satisfied: decorator>=4.3.0 in /usr/local/lib/python3.7/dist-packages (from networkx) (4.4.2)\n"
          ],
          "name": "stdout"
        }
      ]
    },
    {
      "cell_type": "code",
      "metadata": {
        "colab": {
          "base_uri": "https://localhost:8080/"
        },
        "id": "Ib9V_FukT9ao",
        "outputId": "9f4993a4-c740-4f92-9095-61d4ae3e9c15"
      },
      "source": [
        "! git clone https://github.com/rryoung98/CS224w_distance-encoding.git"
      ],
      "execution_count": 10,
      "outputs": [
        {
          "output_type": "stream",
          "text": [
            "Cloning into 'CS224w_distance-encoding'...\n",
            "remote: Enumerating objects: 133, done.\u001b[K\n",
            "remote: Counting objects: 100% (133/133), done.\u001b[K\n",
            "remote: Compressing objects: 100% (96/96), done.\u001b[K\n",
            "remote: Total 133 (delta 44), reused 111 (delta 27), pack-reused 0\u001b[K\n",
            "Receiving objects: 100% (133/133), 24.46 MiB | 12.71 MiB/s, done.\n",
            "Resolving deltas: 100% (44/44), done.\n"
          ],
          "name": "stdout"
        }
      ]
    },
    {
      "cell_type": "code",
      "metadata": {
        "colab": {
          "base_uri": "https://localhost:8080/"
        },
        "id": "cq2XbbbrUvku",
        "outputId": "1c07ecaa-8718-4d83-8910-e93a1667e2b0"
      },
      "source": [
        "cd CS224w_distance-encoding/"
      ],
      "execution_count": 15,
      "outputs": [
        {
          "output_type": "stream",
          "text": [
            "/content/CS224w_distance-encoding\n"
          ],
          "name": "stdout"
        }
      ]
    },
    {
      "cell_type": "code",
      "metadata": {
        "id": "6lAjsTMSF8Gg"
      },
      "source": [
        "from ogb.linkproppred import LinkPropPredDataset\n",
        "from torch_geometric.data import DataLoader\n",
        "import networkx as nx\n",
        "# Download and process data at './dataset/ogbg_molhiv/'\n",
        "collab = LinkPropPredDataset(name = 'ogbl-collab')\n",
        "split = dataset.get_edge_split()\n",
        "train_loader = DataLoader(split['train'], batch_size=32, shuffle=True)\n",
        "valid_loader = DataLoader(split['valid'], batch_size=32, shuffle=False)\n",
        "test_loader = DataLoader(split['test'], batch_size=32, shuffle=False)"
      ],
      "execution_count": 22,
      "outputs": []
    },
    {
      "cell_type": "code",
      "metadata": {
        "colab": {
          "base_uri": "https://localhost:8080/"
        },
        "id": "r02O7hwOS0e3",
        "outputId": "f518bfdf-d7f5-4721-f8aa-bb0edfa39b1d"
      },
      "source": [
        "! python main.py --dataset collab --feature sp --hidden_features 100 --prop_depth 1 --test_ratio 0.1 --epoch 300"
      ],
      "execution_count": 25,
      "outputs": [
        {
          "output_type": "stream",
          "text": [
            "INFO:root:Create log file at ./log/collab/1614712109.3365574.log\n",
            "INFO:root:Command line executed: python main.py --dataset collab --feature sp --hidden_features 100 --prop_depth 1 --test_ratio 0.1 --epoch 300\n",
            "INFO:root:Full args parsed:\n",
            "INFO:root:Namespace(N=1000, T=6, bs=64, data_usage=1.0, dataset='collab', debug=False, directed=False, dropout=0, epoch=300, feature='sp', gpu=0, hidden_features=100, k=3, l2=0, layers=2, log_dir='./log/', lr=0.0001, max_sp=3, metric='auc', model='DE-GNN', n=None, optimizer='sgd', parallel=False, prop_depth=1, rw_depth=3, seed=0, summary_file='result_summary.log', test_ratio=0.1, use_attributes=False, use_degree=True)\n",
            "Traceback (most recent call last):\n",
            "  File \"main.py\", line 77, in <module>\n",
            "    main()\n",
            "  File \"main.py\", line 67, in main\n",
            "    (G, labels), task = read_file(args, logger)\n",
            "  File \"/content/CS224w_distance-encoding/utils.py\", line 113, in read_file\n",
            "    raise ValueError('dataset not found')\n",
            "ValueError: dataset not found\n"
          ],
          "name": "stdout"
        }
      ]
    }
  ]
}